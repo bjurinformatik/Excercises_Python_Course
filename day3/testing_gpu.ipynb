{
  "nbformat": 4,
  "nbformat_minor": 0,
  "metadata": {
    "colab": {
      "provenance": [],
      "authorship_tag": "ABX9TyPxDJxUCBqxkXQ0f5K8GJc5",
      "include_colab_link": true
    },
    "kernelspec": {
      "name": "python3",
      "display_name": "Python 3"
    },
    "language_info": {
      "name": "python"
    },
    "accelerator": "GPU",
    "gpuClass": "standard"
  },
  "cells": [
    {
      "cell_type": "markdown",
      "metadata": {
        "id": "view-in-github",
        "colab_type": "text"
      },
      "source": [
        "<a href=\"https://colab.research.google.com/github/bjurinformatik/Exercises_Python_Course/blob/main/testing_gpu.ipynb\" target=\"_parent\"><img src=\"https://colab.research.google.com/assets/colab-badge.svg\" alt=\"Open In Colab\"/></a>"
      ]
    },
    {
      "cell_type": "code",
      "execution_count": 1,
      "metadata": {
        "colab": {
          "base_uri": "https://localhost:8080/"
        },
        "id": "d5sKj9Upw64_",
        "outputId": "af942648-4607-4578-ee0b-1670158c690a"
      },
      "outputs": [
        {
          "output_type": "stream",
          "name": "stdout",
          "text": [
            "Thu Mar  9 14:26:55 2023       \n",
            "+-----------------------------------------------------------------------------+\n",
            "| NVIDIA-SMI 525.85.12    Driver Version: 525.85.12    CUDA Version: 12.0     |\n",
            "|-------------------------------+----------------------+----------------------+\n",
            "| GPU  Name        Persistence-M| Bus-Id        Disp.A | Volatile Uncorr. ECC |\n",
            "| Fan  Temp  Perf  Pwr:Usage/Cap|         Memory-Usage | GPU-Util  Compute M. |\n",
            "|                               |                      |               MIG M. |\n",
            "|===============================+======================+======================|\n",
            "|   0  Tesla T4            Off  | 00000000:00:04.0 Off |                    0 |\n",
            "| N/A   71C    P0    31W /  70W |      0MiB / 15360MiB |      0%      Default |\n",
            "|                               |                      |                  N/A |\n",
            "+-------------------------------+----------------------+----------------------+\n",
            "                                                                               \n",
            "+-----------------------------------------------------------------------------+\n",
            "| Processes:                                                                  |\n",
            "|  GPU   GI   CI        PID   Type   Process name                  GPU Memory |\n",
            "|        ID   ID                                                   Usage      |\n",
            "|=============================================================================|\n",
            "|  No running processes found                                                 |\n",
            "+-----------------------------------------------------------------------------+\n"
          ]
        }
      ],
      "source": [
        "!nvidia-smi"
      ]
    },
    {
      "cell_type": "code",
      "source": [
        "import cupy"
      ],
      "metadata": {
        "id": "CX6zf5blxFCf"
      },
      "execution_count": 2,
      "outputs": []
    },
    {
      "cell_type": "code",
      "source": [
        "import numpy as np"
      ],
      "metadata": {
        "id": "yLkJtcp5yzEF"
      },
      "execution_count": 3,
      "outputs": []
    },
    {
      "cell_type": "code",
      "source": [
        "def cupy_calculation(N):\n",
        "  x = cupy.random.random(size =(N,N))\n",
        "  x_fft = cupy.fft.fft2(x)\n",
        "  return(x)\n",
        "\n",
        "def np_calculation(N):\n",
        "  y = np.random.random(size=(N,N))\n",
        "  y_fft = np.fft.fft2(y)\n",
        "  return(y)"
      ],
      "metadata": {
        "id": "cYnJ3IFjy2Vg"
      },
      "execution_count": 11,
      "outputs": []
    },
    {
      "cell_type": "code",
      "source": [
        "%timeit cupy_calculation(128)\n",
        "%timeit np_calculation(128)"
      ],
      "metadata": {
        "colab": {
          "base_uri": "https://localhost:8080/"
        },
        "id": "oXfYdhwoz-R9",
        "outputId": "f1bbae1c-93da-4676-e648-da42410f1c22"
      },
      "execution_count": 13,
      "outputs": [
        {
          "output_type": "stream",
          "name": "stdout",
          "text": [
            "105 µs ± 3.59 µs per loop (mean ± std. dev. of 7 runs, 10000 loops each)\n",
            "381 µs ± 39.3 µs per loop (mean ± std. dev. of 7 runs, 1000 loops each)\n"
          ]
        }
      ]
    },
    {
      "cell_type": "code",
      "source": [
        "%timeit cupy_calculation(256)\n",
        "%timeit np_calculation(256)"
      ],
      "metadata": {
        "colab": {
          "base_uri": "https://localhost:8080/"
        },
        "id": "zlgsKsfH0Kag",
        "outputId": "c7002c65-f265-4707-ebef-b4e5e7d0d147"
      },
      "execution_count": 14,
      "outputs": [
        {
          "output_type": "stream",
          "name": "stdout",
          "text": [
            "113 µs ± 15.4 µs per loop (mean ± std. dev. of 7 runs, 10000 loops each)\n",
            "1.65 ms ± 263 µs per loop (mean ± std. dev. of 7 runs, 1000 loops each)\n"
          ]
        }
      ]
    },
    {
      "cell_type": "code",
      "source": [
        "%timeit cupy_calculation(512)\n",
        "%timeit np_calculation(512)"
      ],
      "metadata": {
        "colab": {
          "base_uri": "https://localhost:8080/"
        },
        "id": "EgYxKqQk0SY9",
        "outputId": "ef93b101-1e67-45fd-a65e-582d823ddfc4"
      },
      "execution_count": 15,
      "outputs": [
        {
          "output_type": "stream",
          "name": "stdout",
          "text": [
            "261 µs ± 1.86 µs per loop (mean ± std. dev. of 7 runs, 1000 loops each)\n",
            "6.99 ms ± 129 µs per loop (mean ± std. dev. of 7 runs, 100 loops each)\n"
          ]
        }
      ]
    },
    {
      "cell_type": "code",
      "source": [
        "%timeit cupy_calculation(1024)\n",
        "%timeit np_calculation(1024)"
      ],
      "metadata": {
        "colab": {
          "base_uri": "https://localhost:8080/"
        },
        "id": "523Tgm0R2-nV",
        "outputId": "24d090e1-1fd9-4140-9723-58c59aee16ed"
      },
      "execution_count": 16,
      "outputs": [
        {
          "output_type": "stream",
          "name": "stdout",
          "text": [
            "1.22 ms ± 2.27 µs per loop (mean ± std. dev. of 7 runs, 1000 loops each)\n",
            "36.2 ms ± 262 µs per loop (mean ± std. dev. of 7 runs, 10 loops each)\n"
          ]
        }
      ]
    },
    {
      "cell_type": "code",
      "source": [
        "def np_calculation_float(N):\n",
        "  y = np.random.random(size=(N,N)).astype('float32')\n",
        "  y_fft = np.fft.fft2(y)\n",
        "  return(y)"
      ],
      "metadata": {
        "id": "i4Ev9y4r3EJs"
      },
      "execution_count": 21,
      "outputs": []
    },
    {
      "cell_type": "code",
      "source": [
        "np_calculation_float(128)"
      ],
      "metadata": {
        "colab": {
          "base_uri": "https://localhost:8080/"
        },
        "id": "oqcQHRX44ABc",
        "outputId": "282eaba8-4910-4ded-bb3d-b0ca436ef94d"
      },
      "execution_count": 22,
      "outputs": [
        {
          "output_type": "execute_result",
          "data": {
            "text/plain": [
              "array([[5.5627435e-01, 5.9681751e-02, 4.0968145e-05, ..., 9.4104367e-01,\n",
              "        5.3988618e-01, 7.5960547e-01],\n",
              "       [8.6441267e-01, 3.7475479e-01, 3.3624735e-01, ..., 9.7216910e-01,\n",
              "        5.8012331e-01, 7.3945791e-01],\n",
              "       [9.2093807e-01, 4.2229009e-01, 3.5000211e-01, ..., 8.8189137e-01,\n",
              "        2.9586783e-02, 7.5937128e-01],\n",
              "       ...,\n",
              "       [5.5941933e-01, 3.5454687e-01, 8.0905443e-01, ..., 6.3117039e-01,\n",
              "        8.5760746e-03, 6.0556108e-01],\n",
              "       [2.8599462e-01, 9.8684138e-01, 9.8850292e-01, ..., 3.7717488e-01,\n",
              "        9.2551982e-01, 9.9906510e-01],\n",
              "       [5.0929826e-01, 1.0719459e-01, 6.6742277e-01, ..., 4.9678168e-01,\n",
              "        6.3631469e-01, 7.4537389e-02]], dtype=float32)"
            ]
          },
          "metadata": {},
          "execution_count": 22
        }
      ]
    },
    {
      "cell_type": "code",
      "source": [
        "%timeit cupy_calculation(128)\n",
        "%timeit np_calculation_float(128)"
      ],
      "metadata": {
        "colab": {
          "base_uri": "https://localhost:8080/"
        },
        "id": "LvJRrsnH4Eff",
        "outputId": "78dc1897-30f4-4828-a5d2-e71d98626aa6"
      },
      "execution_count": 23,
      "outputs": [
        {
          "output_type": "stream",
          "name": "stdout",
          "text": [
            "109 µs ± 12.7 µs per loop (mean ± std. dev. of 7 runs, 10000 loops each)\n",
            "380 µs ± 62.8 µs per loop (mean ± std. dev. of 7 runs, 1000 loops each)\n"
          ]
        }
      ]
    },
    {
      "cell_type": "code",
      "source": [],
      "metadata": {
        "id": "tTP_9HFb4p1P"
      },
      "execution_count": null,
      "outputs": []
    }
  ]
}